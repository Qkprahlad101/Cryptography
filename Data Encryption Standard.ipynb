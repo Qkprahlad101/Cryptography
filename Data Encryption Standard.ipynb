{
 "cells": [
  {
   "cell_type": "code",
   "execution_count": 1,
   "metadata": {},
   "outputs": [
    {
     "ename": "SyntaxError",
     "evalue": "'break' outside loop (<ipython-input-1-242e5047505a>, line 8)",
     "output_type": "error",
     "traceback": [
      "\u001b[1;36m  File \u001b[1;32m\"<ipython-input-1-242e5047505a>\"\u001b[1;36m, line \u001b[1;32m8\u001b[0m\n\u001b[1;33m    p = []\u001b[0m\n\u001b[1;37m          \n^\u001b[0m\n\u001b[1;31mSyntaxError\u001b[0m\u001b[1;31m:\u001b[0m 'break' outside loop\n"
     ]
    }
   ],
   "source": [
    "# DES\n",
    "Pt = int(input(\"Enter the plain text of length 64 bits: \"))\n",
    "if len(Pt)!= 64:\n",
    "    print(\"Wrong input\")\n",
    "    break\n",
    "else:\n",
    "    Pt = Pt.lower()\n",
    "    p = []\n",
    "    \n",
    "    # Decimal to binary conversion\n",
    "    def decimalToBinary(n): \n",
    "        return bin(n).replace(\"0b\",\"\") \n",
    "    \n",
    "    # Conversion of strings into numbers from 0-25\n",
    "    for character in Pt:\n",
    "        number = ord(character) - 97\n",
    "        p.append(decimalToBinary(number))  #conversion of numebrs into binary\n",
    "    print(p)\n",
    "    \n",
    "    init_p = [[58,50,42,34,26,18,10,2],[60,52,44,36,28,20,12,4],[62,54,46,38,30,22,14,6],[64,56,48,40,32,24,16,8],\n",
    "             [57,49,41,33,25,17,9,1],[59,51,43,35,27,19,11,3],[61,53,45,37,29,21,13,5],[63,55,47,39,31,23,15,7]]\n",
    "    final_p = [[40,8,48,56,24,64,32],[39,7,47,15,55,23,63,31],[38,6,46,14,54,22,62,30],[37,5,45,13,53,24,61,29],\n",
    "              [36,4,44,12,52,20,60,28],[35,3,43,11,51,19,59,27],[34,2,42,10,50,18,58,26],[33,1,41,9,49,17,57,25]]\n",
    "    \n",
    "    ip= []  # concatenated initial permutation\n",
    "    fp =[]  # # concatenated final permutation\n",
    "    for i in init_p:\n",
    "        ip = ip +i\n",
    "    for j in final_p:\n",
    "        fp = fp + j\n",
    "   \n",
    "\n",
    "    # Initial Permutation\n",
    "    p2 = []\n",
    "    for i in range(64):\n",
    "        p2[i] = p[ip[i]]   \n",
    "            \n",
    "    L = []\n",
    "    R = []\n",
    "    L[0] = p2[0:32]\n",
    "    R[0] = p2[32:64]\n",
    "    \n",
    "    # Creating 16 Rounds\n",
    "    i=0\n",
    "    while i<16:\n",
    "        f = func(R[i],Key[i])\n",
    "        xr = f ^ L[i] # XOrring function and left side\n",
    "        L[i+1],R[i+1] = R[i],L[i]  #Swapper\n",
    "        \n",
    "        \n",
    "        \n",
    "        \n",
    "\n"
   ]
  },
  {
   "cell_type": "code",
   "execution_count": null,
   "metadata": {},
   "outputs": [],
   "source": []
  },
  {
   "cell_type": "code",
   "execution_count": null,
   "metadata": {},
   "outputs": [],
   "source": []
  },
  {
   "cell_type": "code",
   "execution_count": null,
   "metadata": {},
   "outputs": [],
   "source": []
  },
  {
   "cell_type": "code",
   "execution_count": 8,
   "metadata": {},
   "outputs": [
    {
     "name": "stdout",
     "output_type": "stream",
     "text": [
      "0000111100001111000000000000000000000000000000000000000000000010\n",
      "[1, 1, 1, 1, 0, 0, 0, 0, 1, 1, 1, 1, 0, 0, 0, 0, 0, 0, 0, 0, 0, 0, 0, 0, 0, 0, 0, 0, 0, 0, 0, 0, 0, 0, 0, 0, 0, 0, 0, 0, 0, 0, 0, 0, 0, 0, 0, 0, 0, 0, 0, 0, 0, 0, 0, 0, 0, 0, 1, 0]\n",
      "[58, 50, 42, 34, 26, 18, 10, 2, 60, 52, 44, 36, 28, 20, 12, 4, 62, 54, 46, 38, 30, 22, 14, 6, 64, 56, 48, 40, 32, 24, 16, 8, 57, 49, 41, 33, 25, 17, 9, 1, 59, 51, 43, 35, 27, 19, 11, 3, 61, 53, 45, 37, 29, 21, 13, 5, 63, 55, 47, 39, 31, 23, 15, 7]\n",
      "64 60\n",
      "0\n",
      "1\n",
      "0\n",
      "0\n",
      "0\n",
      "0\n",
      "0\n",
      "1\n",
      "1\n"
     ]
    },
    {
     "ename": "IndexError",
     "evalue": "list index out of range",
     "output_type": "error",
     "traceback": [
      "\u001b[1;31m---------------------------------------------------------------------------\u001b[0m",
      "\u001b[1;31mIndexError\u001b[0m                                Traceback (most recent call last)",
      "\u001b[1;32m<ipython-input-8-f68d447f45e4>\u001b[0m in \u001b[0;36m<module>\u001b[1;34m\u001b[0m\n\u001b[0;32m     23\u001b[0m \u001b[0mp2\u001b[0m \u001b[1;33m=\u001b[0m \u001b[1;33m[\u001b[0m\u001b[1;33m]\u001b[0m\u001b[1;33m\u001b[0m\u001b[1;33m\u001b[0m\u001b[0m\n\u001b[0;32m     24\u001b[0m \u001b[1;32mfor\u001b[0m \u001b[0mi\u001b[0m \u001b[1;32min\u001b[0m \u001b[0mrange\u001b[0m\u001b[1;33m(\u001b[0m\u001b[1;36m0\u001b[0m\u001b[1;33m,\u001b[0m\u001b[0mlen\u001b[0m\u001b[1;33m(\u001b[0m\u001b[0mt\u001b[0m\u001b[1;33m)\u001b[0m\u001b[1;33m)\u001b[0m\u001b[1;33m:\u001b[0m\u001b[1;33m\u001b[0m\u001b[1;33m\u001b[0m\u001b[0m\n\u001b[1;32m---> 25\u001b[1;33m        \u001b[0mprint\u001b[0m\u001b[1;33m(\u001b[0m\u001b[0mt\u001b[0m\u001b[1;33m[\u001b[0m\u001b[0mip\u001b[0m\u001b[1;33m[\u001b[0m\u001b[0mi\u001b[0m\u001b[1;33m]\u001b[0m\u001b[1;33m]\u001b[0m\u001b[1;33m)\u001b[0m\u001b[1;33m\u001b[0m\u001b[1;33m\u001b[0m\u001b[0m\n\u001b[0m\u001b[0;32m     26\u001b[0m        \u001b[1;31m#p2.append(p[ip[i]])\u001b[0m\u001b[1;33m\u001b[0m\u001b[1;33m\u001b[0m\u001b[1;33m\u001b[0m\u001b[0m\n\u001b[0;32m     27\u001b[0m \u001b[1;31m#print(p2)\u001b[0m\u001b[1;33m\u001b[0m\u001b[1;33m\u001b[0m\u001b[1;33m\u001b[0m\u001b[0m\n",
      "\u001b[1;31mIndexError\u001b[0m: list index out of range"
     ]
    }
   ],
   "source": [
    "    p = int(input())\n",
    "    t = []\n",
    "    t = [int(d) for d in str(p)]\n",
    "    print(t)\n",
    "    init_p = [[58,50,42,34,26,18,10,2],[60,52,44,36,28,20,12,4],[62,54,46,38,30,22,14,6],[64,56,48,40,32,24,16,8],\n",
    "             [57,49,41,33,25,17,9,1],[59,51,43,35,27,19,11,3],[61,53,45,37,29,21,13,5],[63,55,47,39,31,23,15,7]]\n",
    "    final_p = [[40,8,48,56,24,64,32],[39,7,47,15,55,23,63,31],[38,6,46,14,54,22,62,30],[37,5,45,13,53,24,61,29],\n",
    "              [36,4,44,12,52,20,60,28],[35,3,43,11,51,19,59,27],[34,2,42,10,50,18,58,26],[33,1,41,9,49,17,57,25]]\n",
    "    \n",
    "    ip= []  # concatenated initial permutation\n",
    "    fp =[]  # # concatenated final permutation\n",
    "    for i in init_p:\n",
    "        ip = ip+i\n",
    "    for j in final_p:\n",
    "        fp = fp+j\n",
    "    print(ip)\n",
    "    print(len(ip),len(t))\n",
    "    \n",
    "    print(t[ip[63]])\n",
    "    \n",
    "    \n",
    "    # Initial Permutation\n",
    "    p2 = []\n",
    "    for i in range(0,len(t)):\n",
    "           print(t[ip[i]])\n",
    "           #p2.append(p[ip[i]])\n",
    "    #print(p2)"
   ]
  },
  {
   "cell_type": "code",
   "execution_count": 70,
   "metadata": {},
   "outputs": [
    {
     "name": "stdout",
     "output_type": "stream",
     "text": [
      "62\n"
     ]
    }
   ],
   "source": [
    "print(len('0000111100001111000000000000000000000000000000000000000000000010'))"
   ]
  },
  {
   "cell_type": "code",
   "execution_count": null,
   "metadata": {},
   "outputs": [],
   "source": [
    "p = int(input())\n",
    "t = []\n",
    "t = [int(d) for d in str(p)]\n",
    "print(t)\n"
   ]
  },
  {
   "cell_type": "code",
   "execution_count": 9,
   "metadata": {},
   "outputs": [
    {
     "name": "stdout",
     "output_type": "stream",
     "text": [
      "1000010\n"
     ]
    }
   ],
   "source": [
    "\n",
    "def decimalToBinary(n): \n",
    "    return bin(n).replace(\"0b\",\"\") \n",
    "print(decimalToBinary(66))"
   ]
  },
  {
   "cell_type": "code",
   "execution_count": null,
   "metadata": {},
   "outputs": [],
   "source": []
  },
  {
   "cell_type": "code",
   "execution_count": null,
   "metadata": {},
   "outputs": [],
   "source": []
  },
  {
   "cell_type": "code",
   "execution_count": null,
   "metadata": {},
   "outputs": [],
   "source": []
  },
  {
   "cell_type": "code",
   "execution_count": 10,
   "metadata": {},
   "outputs": [
    {
     "name": "stdout",
     "output_type": "stream",
     "text": [
      "Enter string: prahladisawesome\n",
      "['1111', '10001', '0', '111', '1011', '0', '11', '1000', '10010', '0', '10110', '100', '10010', '1110', '1100', '100']\n"
     ]
    }
   ],
   "source": [
    "    Pt = input(\"Enter string: \")\n",
    "    Pt = Pt.lower()\n",
    "    p = []\n",
    "    \n",
    "    # Decimal to binary conversion\n",
    "    def decimalToBinary(n): \n",
    "        return bin(n).replace(\"0b\",\"\") \n",
    "\n",
    "    for character in Pt:\n",
    "        number = ord(character) - 97\n",
    "        p.append(decimalToBinary(number))\n",
    "    print(p)\n"
   ]
  },
  {
   "cell_type": "code",
   "execution_count": 39,
   "metadata": {},
   "outputs": [
    {
     "name": "stdout",
     "output_type": "stream",
     "text": [
      "phfub346734fonnf\n"
     ]
    }
   ],
   "source": [
    "a = 'phfub'\n",
    "b = '346734'\n",
    "c = 'fonnf'\n",
    "s = []\n",
    "s.append(a)\n",
    "s.append(b)\n",
    "s.append(c)\n",
    "sep = ''\n",
    "var = sep.join(s)\n",
    "print(var)\n"
   ]
  },
  {
   "cell_type": "code",
   "execution_count": 53,
   "metadata": {},
   "outputs": [
    {
     "ename": "TypeError",
     "evalue": "sequence item 0: expected str instance, int found",
     "output_type": "error",
     "traceback": [
      "\u001b[1;31m---------------------------------------------------------------------------\u001b[0m",
      "\u001b[1;31mTypeError\u001b[0m                                 Traceback (most recent call last)",
      "\u001b[1;32m<ipython-input-53-b94b2e182958>\u001b[0m in \u001b[0;36m<module>\u001b[1;34m\u001b[0m\n\u001b[0;32m      4\u001b[0m \u001b[1;31m# s.append(a[1])\u001b[0m\u001b[1;33m\u001b[0m\u001b[1;33m\u001b[0m\u001b[1;33m\u001b[0m\u001b[0m\n\u001b[0;32m      5\u001b[0m \u001b[1;31m# s.append(a[2])\u001b[0m\u001b[1;33m\u001b[0m\u001b[1;33m\u001b[0m\u001b[1;33m\u001b[0m\u001b[0m\n\u001b[1;32m----> 6\u001b[1;33m \u001b[0mprint\u001b[0m\u001b[1;33m(\u001b[0m\u001b[0ms\u001b[0m\u001b[1;33m.\u001b[0m\u001b[0mjoin\u001b[0m\u001b[1;33m(\u001b[0m\u001b[0ma\u001b[0m\u001b[1;33m)\u001b[0m\u001b[1;33m)\u001b[0m\u001b[1;33m\u001b[0m\u001b[1;33m\u001b[0m\u001b[0m\n\u001b[0m\u001b[0;32m      7\u001b[0m \u001b[1;33m\u001b[0m\u001b[0m\n",
      "\u001b[1;31mTypeError\u001b[0m: sequence item 0: expected str instance, int found"
     ]
    }
   ],
   "source": [
    "a = [1, 0, 1, 1]\n",
    "s = \"\"\n",
    "# s.append(a[0])\n",
    "# s.append(a[1])\n",
    "# s.append(a[2])\n",
    "for i in \n",
    "    "
   ]
  },
  {
   "cell_type": "code",
   "execution_count": 4,
   "metadata": {},
   "outputs": [
    {
     "data": {
      "text/plain": [
       "[40,\n",
       " 8,\n",
       " 48,\n",
       " 56,\n",
       " 24,\n",
       " 64,\n",
       " 32,\n",
       " 39,\n",
       " 7,\n",
       " 47,\n",
       " 15,\n",
       " 55,\n",
       " 23,\n",
       " 63,\n",
       " 31,\n",
       " 38,\n",
       " 6,\n",
       " 46,\n",
       " 14,\n",
       " 54,\n",
       " 22,\n",
       " 62,\n",
       " 30,\n",
       " 37,\n",
       " 5,\n",
       " 45,\n",
       " 13,\n",
       " 53,\n",
       " 24,\n",
       " 61,\n",
       " 29,\n",
       " 36,\n",
       " 4,\n",
       " 44,\n",
       " 12,\n",
       " 52,\n",
       " 20,\n",
       " 60,\n",
       " 28,\n",
       " 35,\n",
       " 3,\n",
       " 43,\n",
       " 11,\n",
       " 51,\n",
       " 19,\n",
       " 59,\n",
       " 27,\n",
       " 34,\n",
       " 2,\n",
       " 42,\n",
       " 10,\n",
       " 50,\n",
       " 18,\n",
       " 58,\n",
       " 26,\n",
       " 33,\n",
       " 1,\n",
       " 41,\n",
       " 9,\n",
       " 49,\n",
       " 17,\n",
       " 57,\n",
       " 25]"
      ]
     },
     "execution_count": 4,
     "metadata": {},
     "output_type": "execute_result"
    }
   ],
   "source": [
    "init_p = [[58,50,42,34,26,18,10,2],[60,52,44,36,28,20,12,4],[62,54,46,38,30,22,14,6],[64,56,48,40,32,24,16,8],\n",
    "             [57,49,41,33,25,17,9,1],[59,51,43,35,27,19,11,3],[61,53,45,37,29,21,13,5],[63,55,47,39,31,23,15,7]]\n",
    "final_p = [[40,8,48,56,24,64,32],[39,7,47,15,55,23,63,31],[38,6,46,14,54,22,62,30],[37,5,45,13,53,24,61,29],\n",
    "              [36,4,44,12,52,20,60,28],[35,3,43,11,51,19,59,27],[34,2,42,10,50,18,58,26],[33,1,41,9,49,17,57,25]]\n",
    "    \n",
    "ip= []  # concatenated initial permutation\n",
    "fp =[]  # # concatenated final permutation\n",
    "for i in init_p:\n",
    "        ip = ip +i\n",
    "for j in final_p:\n",
    "        fp = fp + j\n",
    "fp\n",
    "   "
   ]
  },
  {
   "cell_type": "code",
   "execution_count": null,
   "metadata": {},
   "outputs": [],
   "source": []
  }
 ],
 "metadata": {
  "kernelspec": {
   "display_name": "Python 3",
   "language": "python",
   "name": "python3"
  },
  "language_info": {
   "codemirror_mode": {
    "name": "ipython",
    "version": 3
   },
   "file_extension": ".py",
   "mimetype": "text/x-python",
   "name": "python",
   "nbconvert_exporter": "python",
   "pygments_lexer": "ipython3",
   "version": "3.7.3"
  }
 },
 "nbformat": 4,
 "nbformat_minor": 2
}
