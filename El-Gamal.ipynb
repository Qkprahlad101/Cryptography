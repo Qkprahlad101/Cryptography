{
 "cells": [
  {
   "cell_type": "code",
   "execution_count": 5,
   "metadata": {},
   "outputs": [
    {
     "name": "stdout",
     "output_type": "stream",
     "text": [
      "Enter a Prime no= 3\n",
      "ENter  a Private key= 3\n",
      "Enter the second part of Encryption key= 2\n",
      "Public Key is  2 2 3\n",
      "Enter a plain text: 7\n",
      "Enter a random no= 9\n",
      "Cipher code is  2 2\n",
      "Output :  1\n"
     ]
    }
   ],
   "source": [
    "def modInverse(a, m) : \n",
    "    a = a % m; \n",
    "    for x in range(1, m) : \n",
    "        if ((a * x) % m == 1) : \n",
    "            return x \n",
    "    return 1\n",
    "\n",
    "#key generation\n",
    "p = int(input('Enter a Prime no= '))\n",
    "d = int(input('ENter  a Private key= '))\n",
    "e1 = int(input('Enter the second part of Encryption key= '))\n",
    "e2 = ((e1**d) % p)  #third part of encryption key\n",
    "# public key(e1,e2,p)\n",
    "print(\"Public Key is \",e1,e2,p)\n",
    "\n",
    "\n",
    "#Encryption\n",
    "pt = int(input(\"Enter a plain text: \"))\n",
    "r = int(input('Enter a random no= '))\n",
    "c1 = ((e1 **r) % p)\n",
    "c2 = (pt * (e2**r)) % p\n",
    "#ct = (c1,c2)\n",
    "print(\"Cipher code is \",c1,c2)\n",
    "\n",
    "#Decryption\n",
    "c1 = c1**d\n",
    "c1 = modInverse(c1,p)\n",
    "pt = (c2 * c1) % p\n",
    "print(\"Output : \",pt)"
   ]
  },
  {
   "cell_type": "code",
   "execution_count": null,
   "metadata": {},
   "outputs": [],
   "source": []
  },
  {
   "cell_type": "code",
   "execution_count": 1,
   "metadata": {},
   "outputs": [
    {
     "name": "stdout",
     "output_type": "stream",
     "text": [
      "enter  3 4\n"
     ]
    }
   ],
   "source": []
  },
  {
   "cell_type": "code",
   "execution_count": null,
   "metadata": {},
   "outputs": [],
   "source": []
  }
 ],
 "metadata": {
  "kernelspec": {
   "display_name": "Python 3",
   "language": "python",
   "name": "python3"
  },
  "language_info": {
   "codemirror_mode": {
    "name": "ipython",
    "version": 3
   },
   "file_extension": ".py",
   "mimetype": "text/x-python",
   "name": "python",
   "nbconvert_exporter": "python",
   "pygments_lexer": "ipython3",
   "version": "3.7.3"
  }
 },
 "nbformat": 4,
 "nbformat_minor": 2
}
