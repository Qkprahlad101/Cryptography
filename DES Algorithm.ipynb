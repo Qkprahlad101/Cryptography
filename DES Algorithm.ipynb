{
 "cells": [
  {
   "cell_type": "code",
   "execution_count": 4,
   "metadata": {},
   "outputs": [],
   "source": [
    "import numpy as np"
   ]
  },
  {
   "cell_type": "markdown",
   "metadata": {},
   "source": [
    "#               Data Encryption Standard"
   ]
  },
  {
   "cell_type": "code",
   "execution_count": 102,
   "metadata": {},
   "outputs": [
    {
     "name": "stdout",
     "output_type": "stream",
     "text": [
      "Enter the 8 char string: prahladk\n",
      "8 bit separated individual binary digits are:  ['00001111', '00010001', '00000000', '00000111', '00001011', '00000000', '00000011', '00001010']\n",
      "Appended Value is:  0000111100010001000000000000011100001011000000000000001100001010\n",
      "<class 'str'>\n",
      "Enter 8 Bit Hexadecimal Key: abcd1234\n",
      "<class 'list'>\n",
      "sb2:  ['0100', '1111', '1010', '1101', '1111', '0010', '0001', '1101']\n",
      "sb3: 01001111101011011111001000011101 32\n",
      "kk1 32 <class 'list'>\n",
      "kk1 32 <class 'list'>\n",
      "[0, 1, 1, 0, 1, 0, 1, 1, 0, 0, 1, 0, 1, 1, 1, 0, 1, 1, 0, 1, 0, 0, 0, 0, 1, 0, 1, 0, 1, 1, 1, 1]\n"
     ]
    }
   ],
   "source": [
    "P = input(\"Enter the 8 char string: \")\n",
    "p = P.lower()\n",
    "p_n = []\n",
    "\n",
    "# Decimal to binary conversion\n",
    "def decimalToBinary(n): \n",
    "        return bin(n).replace(\"0b\",\"\") \n",
    "\n",
    "# Binary to Decimal\n",
    "def binaryToDecimal(n): \n",
    "    return int(n,2)\n",
    "\n",
    "# character to 8 bit binary\n",
    "for i in p:\n",
    "    num = ord(i)-97\n",
    "    binr = decimalToBinary(num)\n",
    "    p_n.append(binr.zfill(8))    #zfill() fixes the binary to 8 digit\n",
    "print(\"8 bit separated individual binary digits are: \",p_n)\n",
    "\n",
    "#concatenating all binary digits \n",
    "sep = ''\n",
    "p2 = sep.join(p_n)\n",
    "print(\"Appended Value is: \",p2)\n",
    "print(type(p2))\n",
    "\n",
    "# defining permutations\n",
    "ini_per = [5, 50, 42, 34, 26, 18, 10, 2, 60, 52, 44, 36, 28, 20, 12, 4, 62, 54, 46, 38, 30, 22, \n",
    "14, 6, 64, 56, 48, 40, 32, 24, 16, 8, 57, 49, 41, 33, 25, 17, 9, 1, 59, 51, 43, 35, 27, 19, 11, 3, \n",
    "61, 53, 45, 37, 29, 21, 13, 5, 63, 55, 47, 39, 31, 23, 15,7]\n",
    "\n",
    "ini_per[:] = [x - 1 for x in ini_per] #subtracting 1 from each index\n",
    "    \n",
    "fin_per = [40, 8, 48, 56, 24, 64, 32, 39, 7, 47, 15, 55, 23, 63, 31, 38, 6, 46,14, 54, 22, 62, 30, \n",
    "37, 5, 45, 13, 53, 24, 61, 29, 36, 4, 44, 12, 52, 20, 60, 28, 35, 3, 43, 11, 51, 19, 59, 27, 34, 2, \n",
    "42, 10, 50, 18, 58, 26, 33, 1, 41, 9, 49, 17, 57, 25]\n",
    "\n",
    "fin_per[:] = [x - 1 for x in fin_per]\n",
    "\n",
    "#performing initial permutation\n",
    "p3 = []\n",
    "p3 = np.zeros(64)\n",
    "for i in range(64):\n",
    "    p3[i] = p2[ini_per[i]]\n",
    "    \n",
    "L=[]\n",
    "R=[]\n",
    "L.append(p3[:32])\n",
    "R.append(p3[32:])\n",
    "R = np.array(R)\n",
    "R=R.astype(int)\n",
    "a =0\n",
    "b=0\n",
    "for i in R:\n",
    "    a = a+i\n",
    "for i in L:\n",
    "    b = b+i\n",
    "R=a\n",
    "L=b\n",
    "\n",
    "# Key Generation\n",
    "k = input(\"Enter 8 Bit Hexadecimal Key: \")\n",
    "key=[]\n",
    "k2 = []\n",
    "# converting hexadecimal key to individual binary digits of 8 bits\n",
    "for i in k:\n",
    "        k2.append(bin(int(i, 16))[2:].zfill(8))\n",
    "k2 = sep.join(k2)\n",
    "\n",
    "# parity\n",
    "par = [57,49,41,33,25,17,9,1,58,50,42,34,26,18,10,2,59,51,43,35,27,19,11,3,60,52,44,36,\n",
    "       63,55,47,39,31,23,15,7,62,54,46,38,30,22,14,6,61,53,45,37,29,21,13,5,28,20,12,4]\n",
    "par[:] = [x-1 for x in par]\n",
    "\n",
    "# P Compression table\n",
    "p_compr = [14,7,11,24,1,5,3,28,2,15,6,21,10,23,19,12,4,3,26,8,16,7,27,20,13,2,4,\n",
    "                       41,52,31,37,47,55,30,40,5,51,45,33,48,44,49,39,56,6,34,53,46,42,50,36,29,32]\n",
    "p_compr[:] = [x-1 for x in p_compr]\n",
    "\n",
    "\n",
    "t = []\n",
    "# Generating 56 bit key\n",
    "t = np.zeros(56)\n",
    "for i in range(56):\n",
    "    t[i] = k2[par[i]]\n",
    "\n",
    "#left and right part\n",
    "lk = t[:28]\n",
    "rk = t[28:]\n",
    "\n",
    "for kg in range(1,17):\n",
    "            #circular shifting\n",
    "            if kg == 1 or kg==2 or  kg== 9 or  kg==16:\n",
    "                lk = np.roll(lk,-1)\n",
    "                rk = np.roll(rk,-1)\n",
    "            else:\n",
    "                lk = np.roll(lk,-2)\n",
    "                rk = np.roll(rk,-2)   \n",
    "            temp = np.concatenate((lk,rk))\n",
    "            fk = []\n",
    "            fk= np.zeros(48)\n",
    "            for i in range(48):\n",
    "                fk[i] = temp[p_compr[i]]\n",
    "            key.append(fk)\n",
    "g=key[0]\n",
    "print(type(key))\n",
    "\n",
    "def func(key,R):\n",
    "\n",
    "    exp_p = [32,1,2,3,4,5,4,5,6,7,8,9,8,9,10,11,12,13,12,13,14,15,16,17,16,17,\n",
    "             18,19,20,21,20,21,22,23,24,25,24,25,26,27,28,29,28,29,30,31,32,1]\n",
    "    exp_p[:] = [x - 1 for x in exp_p]\n",
    "\n",
    "    s1 = [[14,\t4,\t13,\t1,\t2,\t15,\t11,\t8,\t3,\t10,\t6,\t12,\t5,\t9,\t0,\t7],\n",
    "          [0,\t15,\t7,\t4,\t14,\t2,\t13,\t1,\t10,\t6,\t12,\t11,\t9,\t5,\t3,\t8],\n",
    "          [4,\t1,\t14,\t8,\t13,\t6,\t2,\t11,\t15,\t12,\t9,\t7,\t3,\t10,\t5,\t0],\n",
    "          [15,\t12,\t8,\t2,\t4,\t9,\t1,\t7,\t5,\t11,\t3,\t14,\t10,\t0,\t6,\t13]]\n",
    "    s2 = [[15,\t1,\t8,\t14,\t6,\t11,\t3,\t4,\t9,\t7,\t2,\t13,\t12,\t0,\t5,\t10],\n",
    "         [3,\t13,\t4,\t7,\t15,\t2,\t8,\t14,\t12,\t0,\t1,\t10,\t6,\t9,\t11,\t5],\n",
    "         [0,\t14,\t7,\t11,\t10,\t4,\t13,\t1,\t5,\t8,\t12,\t6,\t9,\t3,\t2,\t15],\n",
    "            [13,\t8,\t10,\t1,\t3,\t15,\t4,\t2,\t11,\t6,\t7,\t12,\t0,\t5,\t14,\t9]]\n",
    "    s3 = [[10,\t0,\t9,\t14,\t6,\t3,\t15,\t5,\t1,\t13,\t12,\t7,\t11,\t4,\t2,\t8],\n",
    "         [13,\t7,\t0,\t9,\t3,\t4,\t6,\t10,\t2,\t8,\t5,\t14,\t12,\t11,\t15,\t1],\n",
    "         [13,\t6,\t4,\t9,\t8,\t15,\t3,\t0,\t11,\t1,\t2,\t12,\t5,\t10,\t14,\t7],\n",
    "         [1,\t10,\t13,\t0,\t6,\t9,\t8,\t7,\t4,\t15,\t14,\t3,\t11,\t5,\t2,\t12,]]\n",
    "    s4 = [[7,\t13,\t14,\t3,\t0,\t6,\t9,\t10,\t1,\t2,\t8,\t5,\t11,\t12,\t4,\t15],\n",
    "        [13,\t8,\t11,\t5,\t6,\t15,\t0,\t3,\t4,\t7,\t2,\t12,\t1,\t10,\t14,\t9],\n",
    "        [10,\t6,\t9,\t0,\t12,\t11,\t7,\t13,\t15,\t1,\t3,\t14,\t5,\t2,\t8,\t4],\n",
    "        [3,\t15,\t0,\t6,\t10,\t1,\t13,\t8,\t9,\t4,\t5,\t11,\t12,\t7,\t2,\t14]]\n",
    "    s5 = [[2,\t12,\t4,\t1,\t7,\t10,\t11,\t6,\t8,\t5,\t3,\t15,\t13,\t0,\t14,\t9],\n",
    "        [14,\t11,\t2,\t12,\t4,\t7,\t13,\t1,\t5,\t0,\t15,\t10,\t3,\t9,\t8,\t6],\n",
    "        [4,\t2,\t1,\t11,\t10,\t13,\t7,\t8,\t15,\t9,\t12,\t5,\t6,\t3,\t0,\t14],\n",
    "        [11,\t8,\t12,\t7,\t1,\t14,\t2,\t13,\t6,\t15,\t0,\t9,\t10,\t4,\t5,\t3]]\n",
    "    s6= [[12,\t1,\t10,\t15,\t9,\t2,\t6,\t8,\t0,\t13,\t3,\t4,\t14,\t7,\t5,\t11],\n",
    "        [10,\t15,\t4,\t2,\t7,\t12,\t9,\t5,\t6,\t1,\t13,\t14,\t0,\t11,\t3,\t8],\n",
    "        [9,\t14,\t15,\t5,\t2,\t8,\t12,\t3,7,0,\t4,\t10,\t1,\t13,\t11,\t6],\n",
    "        [4,\t3,\t2,\t12,\t9,\t5,\t15,\t10,\t11,\t14,\t1,\t7,\t6,\t0,\t8,\t13]]\n",
    "    s7=[[4,\t11,\t2,\t14,\t15,\t0,\t8,\t13,\t3,\t12,\t9,\t7,\t5,\t10,\t6,\t1],\n",
    "        [13,\t0,\t11,\t7,\t4,\t9\t,1,\t10,\t14,\t3,\t5,\t12,\t2,\t15,\t8,\t6],\n",
    "       [1,\t4,\t11,\t13,\t12,\t3,\t7,\t14,\t10,\t15,\t6,\t8,\t0,\t5,\t9,\t2],\n",
    "        [6,\t11,\t13,\t8,\t1,\t4,\t10,\t7,\t9,\t5,\t0,\t15,\t14,\t2,\t3,\t12]]\n",
    "    s8 = [[13,\t2,\t8,\t4,\t6,\t15,\t11,\t1,\t10,\t9,\t3,\t14,\t5,\t0,\t12,\t7],\n",
    "        [1,\t15,\t13,\t8,\t10,\t3,\t7,\t4,\t12,\t5,\t6\t,11,\t0,\t14,\t9,\t2],\n",
    "        [7,\t11,\t4,\t1,\t9,\t12,\t14,\t2,\t0,\t6,\t10,\t13,\t15,\t3\t,5,\t8],\n",
    "        [2,\t1,\t14,\t7,\t4,\t10,\t8,\t13,\t15,\t12,\t9,\t0,\t3,\t5,\t6,\t11]]\n",
    "\n",
    "    s_pbx = [16,7,20,21,29,12,28,17,1,15,23,26,5,18,31,10,2,8,24,14,32,27,3,9,19,13,30,6,22,11,4,25]\n",
    "    s_pbx[:] = [x - 1 for x in s_pbx]\n",
    "    # converting 32 bit Right part to 48 bits\n",
    "    ex = []\n",
    "    ex = np.zeros(48)\n",
    "    for i in range(48):\n",
    "        ex[i] = R[exp_p[i]]\n",
    "    p = np.array(key)\n",
    "    k1 = []\n",
    "    k2 = []\n",
    "    for i in p:\n",
    "        k1.append(int(i))\n",
    "    for i in ex:\n",
    "        k2.append(int(i))\n",
    "\n",
    "\n",
    "    for i in range(48):\n",
    "                  xr1.append(k1[i]^k2[i])\n",
    "\n",
    "\n",
    "    # now converting 48 bits to 32 bits\n",
    "    sb = [xr1[0:6],xr1[6:12],xr1[12:18],xr1[18:24],xr1[24:30],xr1[30:36],xr1[36:42], xr1[42:48]]\n",
    "    sb2 = []\n",
    "    #for i in range(8):\n",
    "        # To get rows\n",
    "    row  = binaryToDecimal(decimalToBinary(sb[0][0])+decimalToBinary(sb[0][5]))\n",
    "    col = binaryToDecimal(decimalToBinary(sb[0][1])+decimalToBinary(sb[0][2])+decimalToBinary(sb[0][3])+decimalToBinary(sb[0][4]))\n",
    "    val = decimalToBinary(s1[row][col]).zfill(4)  #4bits value\n",
    "    sb2.append(val)\n",
    "    row  = binaryToDecimal(decimalToBinary(sb[1][0])+decimalToBinary(sb[1][5]))\n",
    "    col = binaryToDecimal(decimalToBinary(sb[1][1])+decimalToBinary(sb[1][2])+decimalToBinary(sb[1][3])+decimalToBinary(sb[1][4]))\n",
    "    val = decimalToBinary(s2[row][col]).zfill(4)  #4bits value\n",
    "    sb2.append(val)\n",
    "    row  = binaryToDecimal(decimalToBinary(sb[2][0])+decimalToBinary(sb[2][5]))\n",
    "    col = binaryToDecimal(decimalToBinary(sb[2][1])+decimalToBinary(sb[2][2])+decimalToBinary(sb[2][3])+decimalToBinary(sb[2][4]))\n",
    "    val = decimalToBinary(s3[row][col]).zfill(4)  #4bits value\n",
    "    sb2.append(val)\n",
    "\n",
    "    row  = binaryToDecimal(decimalToBinary(sb[3][0])+decimalToBinary(sb[3][5]))\n",
    "    col = binaryToDecimal(decimalToBinary(sb[3][1])+decimalToBinary(sb[3][2])+decimalToBinary(sb[3][3])+decimalToBinary(sb[3][4]))\n",
    "    val = decimalToBinary(s4[row][col]).zfill(4)  #4bits value\n",
    "    sb2.append(val)\n",
    "    row  = binaryToDecimal(decimalToBinary(sb[4][0])+decimalToBinary(sb[4][5]))\n",
    "    col = binaryToDecimal(decimalToBinary(sb[4][1])+decimalToBinary(sb[4][2])+decimalToBinary(sb[4][3])+decimalToBinary(sb[4][4]))\n",
    "    val = decimalToBinary(s5[row][col]).zfill(4)  #4bits value\n",
    "    sb2.append(val)\n",
    "\n",
    "    row  = binaryToDecimal(decimalToBinary(sb[5][0])+decimalToBinary(sb[5][5]))\n",
    "    col = binaryToDecimal(decimalToBinary(sb[5][1])+decimalToBinary(sb[5][2])+decimalToBinary(sb[5][3])+decimalToBinary(sb[5][4]))\n",
    "    val = decimalToBinary(s6[row][col]).zfill(4)  #4bits value\n",
    "    sb2.append(val)\n",
    "\n",
    "    row  = binaryToDecimal(decimalToBinary(sb[6][0])+decimalToBinary(sb[6][5]))\n",
    "    col = binaryToDecimal(decimalToBinary(sb[6][1])+decimalToBinary(sb[6][2])+decimalToBinary(sb[6][3])+decimalToBinary(sb[6][4]))\n",
    "    val = decimalToBinary(s7[row][col]).zfill(4)  #4bits value\n",
    "    sb2.append(val)\n",
    "    row  = binaryToDecimal(decimalToBinary(sb[7][0])+decimalToBinary(sb[7][5]))\n",
    "    col = binaryToDecimal(decimalToBinary(sb[7][1])+decimalToBinary(sb[7][2])+decimalToBinary(sb[7][3])+decimalToBinary(sb[7][4]))\n",
    "    val = decimalToBinary(s8[row][col]).zfill(4)  #4bits value\n",
    "    sb2.append(val)\n",
    "\n",
    "\n",
    "    print('sb2: ',sb2) \n",
    "\n",
    "    sb3 = []\n",
    "    #appending values of substitution box\n",
    "    sep = ''\n",
    "    sb3 =sep.join(sb2)\n",
    "    print('sb3:',sb3,len(sb3))\n",
    "    op = []\n",
    "    op = np.zeros(32)\n",
    "    for i in range(32):\n",
    "        op[i] = sb3[s_pbx[i]]\n",
    "    return op\n",
    "\n",
    "\n",
    "opa = func(g,R) #function generated\n",
    "kk1 = []\n",
    "kk2 = []\n",
    "xr3 = []\n",
    "for i in opa:\n",
    "    kk1.append(int(i))\n",
    "print('kk1',len(kk1),type(kk1))\n",
    "for i in L:\n",
    "    kk2.append(int(i))\n",
    "print('kk1',len(kk2),type(kk2))\n",
    "for i in range(32):\n",
    "    xr3.append(kk1[i] ^ kk2[i])\n",
    "print(xr3)\n",
    "\n",
    "\n",
    "#16 rounds DES\n",
    "#for i in range(16):\n",
    " #   f = func(R,key)\n",
    "  #  xr = L[i] ^ f\n",
    "    \n",
    "    \n",
    "#c = L[16]+R[16]\n"
   ]
  },
  {
   "cell_type": "code",
   "execution_count": null,
   "metadata": {},
   "outputs": [],
   "source": []
  },
  {
   "cell_type": "code",
   "execution_count": null,
   "metadata": {},
   "outputs": [],
   "source": []
  },
  {
   "cell_type": "code",
   "execution_count": null,
   "metadata": {},
   "outputs": [],
   "source": []
  },
  {
   "cell_type": "code",
   "execution_count": null,
   "metadata": {},
   "outputs": [],
   "source": [
    "P = input(\"Enter the 8 char string: \")\n",
    "p = P.lower()\n",
    "p_n = []\n",
    "\n",
    "# Decimal to binary conversion\n",
    "def decimalToBinary(n): \n",
    "        return bin(n).replace(\"0b\",\"\") \n",
    "\n",
    "# Binary to Decimal\n",
    "def binaryToDecimal(n): \n",
    "    return int(n,2)\n",
    "\n",
    "# character to 8 bit binary\n",
    "for i in p:\n",
    "    num = ord(i)-97\n",
    "    binr = decimalToBinary(num)\n",
    "    p_n.append(binr.zfill(8))    #zfill() fixes the binary to 8 digit\n",
    "print(\"8 bit separated individual binary digits are: \",p_n)\n",
    "\n",
    "#concatenating all binary digits \n",
    "sep = ''\n",
    "p2 = sep.join(p_n)\n",
    "print(\"Appended Value is: \",p2)\n",
    "print(type(p2))\n",
    "\n",
    "# defining permutations\n",
    "ini_per = [5, 50, 42, 34, 26, 18, 10, 2, 60, 52, 44, 36, 28, 20, 12, 4, 62, 54, 46, 38, 30, 22, \n",
    "14, 6, 64, 56, 48, 40, 32, 24, 16, 8, 57, 49, 41, 33, 25, 17, 9, 1, 59, 51, 43, 35, 27, 19, 11, 3, \n",
    "61, 53, 45, 37, 29, 21, 13, 5, 63, 55, 47, 39, 31, 23, 15,7]\n",
    "\n",
    "ini_per[:] = [x - 1 for x in ini_per] #subtracting 1 from each index\n",
    "    \n",
    "fin_per = [40, 8, 48, 56, 24, 64, 32, 39, 7, 47, 15, 55, 23, 63, 31, 38, 6, 46,14, 54, 22, 62, 30, \n",
    "37, 5, 45, 13, 53, 24, 61, 29, 36, 4, 44, 12, 52, 20, 60, 28, 35, 3, 43, 11, 51, 19, 59, 27, 34, 2, \n",
    "42, 10, 50, 18, 58, 26, 33, 1, 41, 9, 49, 17, 57, 25]\n",
    "\n",
    "fin_per[:] = [x - 1 for x in fin_per]\n",
    "\n",
    "#performing initial permutation\n",
    "p3 = []\n",
    "p3 = np.zeros(64)\n",
    "for i in range(64):\n",
    "    p3[i] = p2[ini_per[i]]\n",
    "    \n",
    "L=[]\n",
    "R=[]\n",
    "L.append(p3[:32])\n",
    "R.append(p3[32:])\n",
    "R = np.array(R)\n",
    "R=R.astype(int)\n",
    "a =0\n",
    "b=0\n",
    "for i in R:\n",
    "    a = a+i\n",
    "for i in L:\n",
    "    b = b+i\n",
    "R=a\n",
    "L=b\n"
   ]
  },
  {
   "cell_type": "code",
   "execution_count": 101,
   "metadata": {},
   "outputs": [
    {
     "name": "stdout",
     "output_type": "stream",
     "text": [
      "sb2:  ['0100', '1111', '1010', '1101', '1111', '0010', '0001', '1101']\n",
      "sb3: 01001111101011011111001000011101 32\n",
      "kk1 32 <class 'list'>\n",
      "kk1 32 <class 'list'>\n",
      "[0, 1, 1, 0, 1, 0, 1, 1, 0, 0, 1, 0, 1, 1, 1, 0, 1, 1, 0, 1, 0, 0, 0, 0, 1, 0, 1, 0, 1, 1, 1, 1]\n"
     ]
    }
   ],
   "source": [
    "opa = func(g,R) #function generated\n",
    "kk1 = []\n",
    "kk2 = []\n",
    "xr3 = []\n",
    "for i in opa:\n",
    "    kk1.append(int(i))\n",
    "print('kk1',len(kk1),type(kk1))\n",
    "for i in L:\n",
    "    kk2.append(int(i))\n",
    "print('kk1',len(kk2),type(kk2))\n",
    "for i in range(32):\n",
    "    xr3.append(kk1[i] ^ kk2[i])\n",
    "print(xr3)\n",
    "\n"
   ]
  },
  {
   "cell_type": "code",
   "execution_count": 94,
   "metadata": {},
   "outputs": [],
   "source": [
    "def func(key,R):\n",
    "\n",
    "    exp_p = [32,1,2,3,4,5,4,5,6,7,8,9,8,9,10,11,12,13,12,13,14,15,16,17,16,17,\n",
    "             18,19,20,21,20,21,22,23,24,25,24,25,26,27,28,29,28,29,30,31,32,1]\n",
    "    exp_p[:] = [x - 1 for x in exp_p]\n",
    "\n",
    "    s1 = [[14,\t4,\t13,\t1,\t2,\t15,\t11,\t8,\t3,\t10,\t6,\t12,\t5,\t9,\t0,\t7],\n",
    "          [0,\t15,\t7,\t4,\t14,\t2,\t13,\t1,\t10,\t6,\t12,\t11,\t9,\t5,\t3,\t8],\n",
    "          [4,\t1,\t14,\t8,\t13,\t6,\t2,\t11,\t15,\t12,\t9,\t7,\t3,\t10,\t5,\t0],\n",
    "          [15,\t12,\t8,\t2,\t4,\t9,\t1,\t7,\t5,\t11,\t3,\t14,\t10,\t0,\t6,\t13]]\n",
    "    s2 = [[15,\t1,\t8,\t14,\t6,\t11,\t3,\t4,\t9,\t7,\t2,\t13,\t12,\t0,\t5,\t10],\n",
    "         [3,\t13,\t4,\t7,\t15,\t2,\t8,\t14,\t12,\t0,\t1,\t10,\t6,\t9,\t11,\t5],\n",
    "         [0,\t14,\t7,\t11,\t10,\t4,\t13,\t1,\t5,\t8,\t12,\t6,\t9,\t3,\t2,\t15],\n",
    "            [13,\t8,\t10,\t1,\t3,\t15,\t4,\t2,\t11,\t6,\t7,\t12,\t0,\t5,\t14,\t9]]\n",
    "    s3 = [[10,\t0,\t9,\t14,\t6,\t3,\t15,\t5,\t1,\t13,\t12,\t7,\t11,\t4,\t2,\t8],\n",
    "         [13,\t7,\t0,\t9,\t3,\t4,\t6,\t10,\t2,\t8,\t5,\t14,\t12,\t11,\t15,\t1],\n",
    "         [13,\t6,\t4,\t9,\t8,\t15,\t3,\t0,\t11,\t1,\t2,\t12,\t5,\t10,\t14,\t7],\n",
    "         [1,\t10,\t13,\t0,\t6,\t9,\t8,\t7,\t4,\t15,\t14,\t3,\t11,\t5,\t2,\t12,]]\n",
    "    s4 = [[7,\t13,\t14,\t3,\t0,\t6,\t9,\t10,\t1,\t2,\t8,\t5,\t11,\t12,\t4,\t15],\n",
    "        [13,\t8,\t11,\t5,\t6,\t15,\t0,\t3,\t4,\t7,\t2,\t12,\t1,\t10,\t14,\t9],\n",
    "        [10,\t6,\t9,\t0,\t12,\t11,\t7,\t13,\t15,\t1,\t3,\t14,\t5,\t2,\t8,\t4],\n",
    "        [3,\t15,\t0,\t6,\t10,\t1,\t13,\t8,\t9,\t4,\t5,\t11,\t12,\t7,\t2,\t14]]\n",
    "    s5 = [[2,\t12,\t4,\t1,\t7,\t10,\t11,\t6,\t8,\t5,\t3,\t15,\t13,\t0,\t14,\t9],\n",
    "        [14,\t11,\t2,\t12,\t4,\t7,\t13,\t1,\t5,\t0,\t15,\t10,\t3,\t9,\t8,\t6],\n",
    "        [4,\t2,\t1,\t11,\t10,\t13,\t7,\t8,\t15,\t9,\t12,\t5,\t6,\t3,\t0,\t14],\n",
    "        [11,\t8,\t12,\t7,\t1,\t14,\t2,\t13,\t6,\t15,\t0,\t9,\t10,\t4,\t5,\t3]]\n",
    "    s6= [[12,\t1,\t10,\t15,\t9,\t2,\t6,\t8,\t0,\t13,\t3,\t4,\t14,\t7,\t5,\t11],\n",
    "        [10,\t15,\t4,\t2,\t7,\t12,\t9,\t5,\t6,\t1,\t13,\t14,\t0,\t11,\t3,\t8],\n",
    "        [9,\t14,\t15,\t5,\t2,\t8,\t12,\t3,7,0,\t4,\t10,\t1,\t13,\t11,\t6],\n",
    "        [4,\t3,\t2,\t12,\t9,\t5,\t15,\t10,\t11,\t14,\t1,\t7,\t6,\t0,\t8,\t13]]\n",
    "    s7=[[4,\t11,\t2,\t14,\t15,\t0,\t8,\t13,\t3,\t12,\t9,\t7,\t5,\t10,\t6,\t1],\n",
    "        [13,\t0,\t11,\t7,\t4,\t9\t,1,\t10,\t14,\t3,\t5,\t12,\t2,\t15,\t8,\t6],\n",
    "       [1,\t4,\t11,\t13,\t12,\t3,\t7,\t14,\t10,\t15,\t6,\t8,\t0,\t5,\t9,\t2],\n",
    "        [6,\t11,\t13,\t8,\t1,\t4,\t10,\t7,\t9,\t5,\t0,\t15,\t14,\t2,\t3,\t12]]\n",
    "    s8 = [[13,\t2,\t8,\t4,\t6,\t15,\t11,\t1,\t10,\t9,\t3,\t14,\t5,\t0,\t12,\t7],\n",
    "        [1,\t15,\t13,\t8,\t10,\t3,\t7,\t4,\t12,\t5,\t6\t,11,\t0,\t14,\t9,\t2],\n",
    "        [7,\t11,\t4,\t1,\t9,\t12,\t14,\t2,\t0,\t6,\t10,\t13,\t15,\t3\t,5,\t8],\n",
    "        [2,\t1,\t14,\t7,\t4,\t10,\t8,\t13,\t15,\t12,\t9,\t0,\t3,\t5,\t6,\t11]]\n",
    "\n",
    "    s_pbx = [16,7,20,21,29,12,28,17,1,15,23,26,5,18,31,10,2,8,24,14,32,27,3,9,19,13,30,6,22,11,4,25]\n",
    "    s_pbx[:] = [x - 1 for x in s_pbx]\n",
    "    # converting 32 bit Right part to 48 bits\n",
    "    ex = []\n",
    "    ex = np.zeros(48)\n",
    "    for i in range(48):\n",
    "        ex[i] = R[exp_p[i]]\n",
    "    p = np.array(key)\n",
    "    k1 = []\n",
    "    k2 = []\n",
    "    for i in p:\n",
    "        k1.append(int(i))\n",
    "    for i in ex:\n",
    "        k2.append(int(i))\n",
    "\n",
    "\n",
    "    for i in range(48):\n",
    "                  xr1.append(k1[i]^k2[i])\n",
    "\n",
    "\n",
    "    # now converting 48 bits to 32 bits\n",
    "    sb = [xr1[0:6],xr1[6:12],xr1[12:18],xr1[18:24],xr1[24:30],xr1[30:36],xr1[36:42], xr1[42:48]]\n",
    "    sb2 = []\n",
    "    #for i in range(8):\n",
    "        # To get rows\n",
    "    row  = binaryToDecimal(decimalToBinary(sb[0][0])+decimalToBinary(sb[0][5]))\n",
    "    col = binaryToDecimal(decimalToBinary(sb[0][1])+decimalToBinary(sb[0][2])+decimalToBinary(sb[0][3])+decimalToBinary(sb[0][4]))\n",
    "    val = decimalToBinary(s1[row][col]).zfill(4)  #4bits value\n",
    "    sb2.append(val)\n",
    "    row  = binaryToDecimal(decimalToBinary(sb[1][0])+decimalToBinary(sb[1][5]))\n",
    "    col = binaryToDecimal(decimalToBinary(sb[1][1])+decimalToBinary(sb[1][2])+decimalToBinary(sb[1][3])+decimalToBinary(sb[1][4]))\n",
    "    val = decimalToBinary(s2[row][col]).zfill(4)  #4bits value\n",
    "    sb2.append(val)\n",
    "    row  = binaryToDecimal(decimalToBinary(sb[2][0])+decimalToBinary(sb[2][5]))\n",
    "    col = binaryToDecimal(decimalToBinary(sb[2][1])+decimalToBinary(sb[2][2])+decimalToBinary(sb[2][3])+decimalToBinary(sb[2][4]))\n",
    "    val = decimalToBinary(s3[row][col]).zfill(4)  #4bits value\n",
    "    sb2.append(val)\n",
    "\n",
    "    row  = binaryToDecimal(decimalToBinary(sb[3][0])+decimalToBinary(sb[3][5]))\n",
    "    col = binaryToDecimal(decimalToBinary(sb[3][1])+decimalToBinary(sb[3][2])+decimalToBinary(sb[3][3])+decimalToBinary(sb[3][4]))\n",
    "    val = decimalToBinary(s4[row][col]).zfill(4)  #4bits value\n",
    "    sb2.append(val)\n",
    "    row  = binaryToDecimal(decimalToBinary(sb[4][0])+decimalToBinary(sb[4][5]))\n",
    "    col = binaryToDecimal(decimalToBinary(sb[4][1])+decimalToBinary(sb[4][2])+decimalToBinary(sb[4][3])+decimalToBinary(sb[4][4]))\n",
    "    val = decimalToBinary(s5[row][col]).zfill(4)  #4bits value\n",
    "    sb2.append(val)\n",
    "\n",
    "    row  = binaryToDecimal(decimalToBinary(sb[5][0])+decimalToBinary(sb[5][5]))\n",
    "    col = binaryToDecimal(decimalToBinary(sb[5][1])+decimalToBinary(sb[5][2])+decimalToBinary(sb[5][3])+decimalToBinary(sb[5][4]))\n",
    "    val = decimalToBinary(s6[row][col]).zfill(4)  #4bits value\n",
    "    sb2.append(val)\n",
    "\n",
    "    row  = binaryToDecimal(decimalToBinary(sb[6][0])+decimalToBinary(sb[6][5]))\n",
    "    col = binaryToDecimal(decimalToBinary(sb[6][1])+decimalToBinary(sb[6][2])+decimalToBinary(sb[6][3])+decimalToBinary(sb[6][4]))\n",
    "    val = decimalToBinary(s7[row][col]).zfill(4)  #4bits value\n",
    "    sb2.append(val)\n",
    "    row  = binaryToDecimal(decimalToBinary(sb[7][0])+decimalToBinary(sb[7][5]))\n",
    "    col = binaryToDecimal(decimalToBinary(sb[7][1])+decimalToBinary(sb[7][2])+decimalToBinary(sb[7][3])+decimalToBinary(sb[7][4]))\n",
    "    val = decimalToBinary(s8[row][col]).zfill(4)  #4bits value\n",
    "    sb2.append(val)\n",
    "\n",
    "\n",
    "    print('sb2: ',sb2) \n",
    "\n",
    "    sb3 = []\n",
    "    #appending values of substitution box\n",
    "    sep = ''\n",
    "    sb3 =sep.join(sb2)\n",
    "    print('sb3:',sb3,len(sb3))\n",
    "    op = []\n",
    "    op = np.zeros(32)\n",
    "    for i in range(32):\n",
    "        op[i] = sb3[s_pbx[i]]\n",
    "    return op\n"
   ]
  },
  {
   "cell_type": "code",
   "execution_count": 34,
   "metadata": {},
   "outputs": [
    {
     "data": {
      "text/plain": [
       "[1011, 1001]"
      ]
     },
     "execution_count": 34,
     "metadata": {},
     "output_type": "execute_result"
    }
   ],
   "source": [
    "c1 = 1011\n",
    "c2 = 1001\n",
    "c = []\n",
    "c.append(c1)\n",
    "c.append(c2)\n",
    "c"
   ]
  },
  {
   "cell_type": "code",
   "execution_count": null,
   "metadata": {},
   "outputs": [],
   "source": [
    "zxc = ['0100', '1111', '1010', '1101', '1111', '0010', '0001', '1101']\n",
    "cvb = []\n",
    "for i in zxc:\n",
    "    \n",
    "    "
   ]
  },
  {
   "cell_type": "code",
   "execution_count": 33,
   "metadata": {},
   "outputs": [
    {
     "name": "stdout",
     "output_type": "stream",
     "text": [
      "[0. 0. 0. 0. 0. 0. 0. 0.]\n",
      "[0. 0. 0. 0. 0. 0. 0. 0.]\n"
     ]
    }
   ],
   "source": [
    "s0 = [2,3,456,7]\n",
    "s1 = [2,46,8,4]\n",
    "for i in range(2):\n",
    "    print(s*i)\n"
   ]
  },
  {
   "cell_type": "code",
   "execution_count": 32,
   "metadata": {},
   "outputs": [
    {
     "ename": "IndexError",
     "evalue": "list index out of range",
     "output_type": "error",
     "traceback": [
      "\u001b[1;31m---------------------------------------------------------------------------\u001b[0m",
      "\u001b[1;31mIndexError\u001b[0m                                Traceback (most recent call last)",
      "\u001b[1;32m<ipython-input-32-a049382cdfdb>\u001b[0m in \u001b[0;36m<module>\u001b[1;34m\u001b[0m\n\u001b[0;32m      1\u001b[0m \u001b[0mr\u001b[0m \u001b[1;33m=\u001b[0m \u001b[0mR\u001b[0m\u001b[1;33m\u001b[0m\u001b[1;33m\u001b[0m\u001b[0m\n\u001b[0;32m      2\u001b[0m \u001b[0mkey\u001b[0m \u001b[1;33m=\u001b[0m \u001b[0mkey\u001b[0m\u001b[1;33m[\u001b[0m\u001b[1;36m0\u001b[0m\u001b[1;33m]\u001b[0m\u001b[1;33m\u001b[0m\u001b[1;33m\u001b[0m\u001b[0m\n\u001b[1;32m----> 3\u001b[1;33m \u001b[0mp\u001b[0m \u001b[1;33m=\u001b[0m \u001b[0mfunc\u001b[0m\u001b[1;33m(\u001b[0m\u001b[0mr\u001b[0m\u001b[1;33m,\u001b[0m\u001b[0mp\u001b[0m\u001b[1;33m)\u001b[0m\u001b[1;33m\u001b[0m\u001b[1;33m\u001b[0m\u001b[0m\n\u001b[0m\u001b[0;32m      4\u001b[0m \u001b[0mprint\u001b[0m\u001b[1;33m(\u001b[0m\u001b[0mp\u001b[0m\u001b[1;33m)\u001b[0m\u001b[1;33m\u001b[0m\u001b[1;33m\u001b[0m\u001b[0m\n",
      "\u001b[1;32m<ipython-input-26-61e4fc27b89d>\u001b[0m in \u001b[0;36mfunc\u001b[1;34m(r, key)\u001b[0m\n\u001b[0;32m      5\u001b[0m     \u001b[0mnr\u001b[0m \u001b[1;33m=\u001b[0m \u001b[1;33m[\u001b[0m\u001b[1;33m]\u001b[0m\u001b[1;33m\u001b[0m\u001b[1;33m\u001b[0m\u001b[0m\n\u001b[0;32m      6\u001b[0m     \u001b[1;32mwhile\u001b[0m\u001b[1;33m(\u001b[0m\u001b[0mlen\u001b[0m\u001b[1;33m(\u001b[0m\u001b[0mnr\u001b[0m\u001b[1;33m)\u001b[0m \u001b[1;33m<\u001b[0m \u001b[1;36m48\u001b[0m\u001b[1;33m)\u001b[0m\u001b[1;33m:\u001b[0m\u001b[1;33m\u001b[0m\u001b[1;33m\u001b[0m\u001b[0m\n\u001b[1;32m----> 7\u001b[1;33m         \u001b[0mnr\u001b[0m\u001b[1;33m.\u001b[0m\u001b[0mappend\u001b[0m\u001b[1;33m(\u001b[0m\u001b[0mr\u001b[0m\u001b[1;33m[\u001b[0m\u001b[0meb\u001b[0m\u001b[1;33m[\u001b[0m\u001b[0mlen\u001b[0m\u001b[1;33m(\u001b[0m\u001b[0mnr\u001b[0m\u001b[1;33m)\u001b[0m\u001b[1;33m]\u001b[0m\u001b[1;33m]\u001b[0m\u001b[1;33m)\u001b[0m\u001b[1;33m\u001b[0m\u001b[1;33m\u001b[0m\u001b[0m\n\u001b[0m\u001b[0;32m      8\u001b[0m     \u001b[0mr\u001b[0m \u001b[1;33m=\u001b[0m \u001b[0mnr\u001b[0m\u001b[1;33m^\u001b[0m\u001b[0mkey\u001b[0m\u001b[1;33m\u001b[0m\u001b[1;33m\u001b[0m\u001b[0m\n\u001b[0;32m      9\u001b[0m     \u001b[0mr1\u001b[0m \u001b[1;33m=\u001b[0m \u001b[1;33m[\u001b[0m\u001b[1;36m0\u001b[0m\u001b[1;33m]\u001b[0m\u001b[1;33m*\u001b[0m\u001b[1;36m16\u001b[0m\u001b[1;33m\u001b[0m\u001b[1;33m\u001b[0m\u001b[0m\n",
      "\u001b[1;31mIndexError\u001b[0m: list index out of range"
     ]
    }
   ],
   "source": [
    "r = R\n",
    "key = key[0]\n",
    "p = func(r,p)\n",
    "print(p)"
   ]
  },
  {
   "cell_type": "code",
   "execution_count": null,
   "metadata": {},
   "outputs": [],
   "source": []
  },
  {
   "cell_type": "code",
   "execution_count": null,
   "metadata": {},
   "outputs": [],
   "source": []
  },
  {
   "cell_type": "code",
   "execution_count": 21,
   "metadata": {},
   "outputs": [
    {
     "ename": "ValueError",
     "evalue": "setting an array element with a sequence.",
     "output_type": "error",
     "traceback": [
      "\u001b[1;31m---------------------------------------------------------------------------\u001b[0m",
      "\u001b[1;31mValueError\u001b[0m                                Traceback (most recent call last)",
      "\u001b[1;32m<ipython-input-21-3b2f3316b537>\u001b[0m in \u001b[0;36m<module>\u001b[1;34m\u001b[0m\n\u001b[0;32m      1\u001b[0m \u001b[0ms\u001b[0m\u001b[1;33m=\u001b[0m\u001b[1;33m[\u001b[0m\u001b[1;33m]\u001b[0m\u001b[1;33m\u001b[0m\u001b[1;33m\u001b[0m\u001b[0m\n\u001b[0;32m      2\u001b[0m \u001b[0ms\u001b[0m \u001b[1;33m=\u001b[0m \u001b[0mnp\u001b[0m\u001b[1;33m.\u001b[0m\u001b[0mzeros\u001b[0m\u001b[1;33m(\u001b[0m\u001b[1;36m8\u001b[0m\u001b[1;33m)\u001b[0m\u001b[1;33m\u001b[0m\u001b[1;33m\u001b[0m\u001b[0m\n\u001b[1;32m----> 3\u001b[1;33m \u001b[0ms\u001b[0m\u001b[1;33m[\u001b[0m\u001b[1;36m0\u001b[0m\u001b[1;33m]\u001b[0m \u001b[1;33m=\u001b[0m \u001b[1;33m[\u001b[0m\u001b[1;36m1\u001b[0m\u001b[1;33m,\u001b[0m\u001b[1;36m0\u001b[0m\u001b[1;33m,\u001b[0m\u001b[1;36m1\u001b[0m\u001b[1;33m,\u001b[0m\u001b[1;36m0\u001b[0m\u001b[1;33m,\u001b[0m\u001b[1;36m1\u001b[0m\u001b[1;33m]\u001b[0m\u001b[1;33m\u001b[0m\u001b[1;33m\u001b[0m\u001b[0m\n\u001b[0m\u001b[0;32m      4\u001b[0m \u001b[0mbinaryToDecimal\u001b[0m\u001b[1;33m(\u001b[0m\u001b[0mdecimalToBinary\u001b[0m\u001b[1;33m(\u001b[0m\u001b[0msb\u001b[0m\u001b[1;33m[\u001b[0m\u001b[1;36m0\u001b[0m\u001b[1;33m]\u001b[0m\u001b[1;33m)\u001b[0m\u001b[1;33m+\u001b[0m\u001b[0mdecimalToBinary\u001b[0m\u001b[1;33m(\u001b[0m\u001b[0msb\u001b[0m\u001b[1;33m[\u001b[0m\u001b[1;36m4\u001b[0m\u001b[1;33m]\u001b[0m\u001b[1;33m)\u001b[0m\u001b[1;33m)\u001b[0m\u001b[1;33m\u001b[0m\u001b[1;33m\u001b[0m\u001b[0m\n\u001b[0;32m      5\u001b[0m \u001b[1;33m\u001b[0m\u001b[0m\n",
      "\u001b[1;31mValueError\u001b[0m: setting an array element with a sequence."
     ]
    }
   ],
   "source": [
    "s=[]\n",
    "s = np.zeros(8)\n",
    "s[0] = [1,0,1,0,1]\n",
    "binaryToDecimal(decimalToBinary(sb[0])+decimalToBinary(sb[4]))\n",
    "\n"
   ]
  },
  {
   "cell_type": "code",
   "execution_count": 7,
   "metadata": {},
   "outputs": [
    {
     "data": {
      "text/plain": [
       "[1, 1, 0, 0, 1, 1]"
      ]
     },
     "execution_count": 7,
     "metadata": {},
     "output_type": "execute_result"
    }
   ],
   "source": [
    "p = [1,1,0,0,1,1]\n",
    "p1 = p[:3]\n",
    "p2 = p[3:]\n",
    "p3 = [p1,p2]\n",
    "p4=[]\n",
    "for i in p3:\n",
    "    p4 = p4 +i\n",
    "p4"
   ]
  },
  {
   "cell_type": "code",
   "execution_count": null,
   "metadata": {},
   "outputs": [],
   "source": []
  },
  {
   "cell_type": "code",
   "execution_count": null,
   "metadata": {},
   "outputs": [],
   "source": []
  },
  {
   "cell_type": "code",
   "execution_count": 92,
   "metadata": {},
   "outputs": [
    {
     "name": "stdout",
     "output_type": "stream",
     "text": [
      "Enter 8 Bit Hexadecimal Key: abcd1234\n",
      "<class 'list'>\n"
     ]
    }
   ],
   "source": [
    "# Key Generation\n",
    "k = input(\"Enter 8 Bit Hexadecimal Key: \")\n",
    "key=[]\n",
    "k2 = []\n",
    "# converting hexadecimal key to individual binary digits of 8 bits\n",
    "for i in k:\n",
    "        k2.append(bin(int(i, 16))[2:].zfill(8))\n",
    "k2 = sep.join(k2)\n",
    "\n",
    "# parity\n",
    "par = [57,49,41,33,25,17,9,1,58,50,42,34,26,18,10,2,59,51,43,35,27,19,11,3,60,52,44,36,\n",
    "       63,55,47,39,31,23,15,7,62,54,46,38,30,22,14,6,61,53,45,37,29,21,13,5,28,20,12,4]\n",
    "par[:] = [x-1 for x in par]\n",
    "\n",
    "# P Compression table\n",
    "p_compr = [14,7,11,24,1,5,3,28,2,15,6,21,10,23,19,12,4,3,26,8,16,7,27,20,13,2,4,\n",
    "                       41,52,31,37,47,55,30,40,5,51,45,33,48,44,49,39,56,6,34,53,46,42,50,36,29,32]\n",
    "p_compr[:] = [x-1 for x in p_compr]\n",
    "\n",
    "\n",
    "t = []\n",
    "# Generating 56 bit key\n",
    "t = np.zeros(56)\n",
    "for i in range(56):\n",
    "    t[i] = k2[par[i]]\n",
    "\n",
    "#left and right part\n",
    "lk = t[:28]\n",
    "rk = t[28:]\n",
    "\n",
    "for kg in range(1,17):\n",
    "            #circular shifting\n",
    "            if kg == 1 or kg==2 or  kg== 9 or  kg==16:\n",
    "                lk = np.roll(lk,-1)\n",
    "                rk = np.roll(rk,-1)\n",
    "            else:\n",
    "                lk = np.roll(lk,-2)\n",
    "                rk = np.roll(rk,-2)   \n",
    "            temp = np.concatenate((lk,rk))\n",
    "            fk = []\n",
    "            fk= np.zeros(48)\n",
    "            for i in range(48):\n",
    "                fk[i] = temp[p_compr[i]]\n",
    "            key.append(fk)\n",
    "g=key[0]\n",
    "print(type(key))\n",
    "            \n",
    "\n"
   ]
  },
  {
   "cell_type": "code",
   "execution_count": 32,
   "metadata": {},
   "outputs": [
    {
     "data": {
      "text/plain": [
       "56"
      ]
     },
     "execution_count": 32,
     "metadata": {},
     "output_type": "execute_result"
    }
   ],
   "source": [
    "len(np.concatenate((lk,rk)))"
   ]
  },
  {
   "cell_type": "code",
   "execution_count": null,
   "metadata": {},
   "outputs": [],
   "source": []
  },
  {
   "cell_type": "code",
   "execution_count": null,
   "metadata": {},
   "outputs": [],
   "source": []
  },
  {
   "cell_type": "code",
   "execution_count": null,
   "metadata": {},
   "outputs": [],
   "source": []
  },
  {
   "cell_type": "code",
   "execution_count": null,
   "metadata": {},
   "outputs": [],
   "source": []
  },
  {
   "cell_type": "code",
   "execution_count": null,
   "metadata": {},
   "outputs": [],
   "source": []
  },
  {
   "cell_type": "code",
   "execution_count": 28,
   "metadata": {},
   "outputs": [
    {
     "ename": "TypeError",
     "evalue": "only integer scalar arrays can be converted to a scalar index",
     "output_type": "error",
     "traceback": [
      "\u001b[1;31m---------------------------------------------------------------------------\u001b[0m",
      "\u001b[1;31mTypeError\u001b[0m                                 Traceback (most recent call last)",
      "\u001b[1;32m<ipython-input-28-5f6334973a6a>\u001b[0m in \u001b[0;36m<module>\u001b[1;34m\u001b[0m\n\u001b[1;32m----> 1\u001b[1;33m \u001b[0mnp\u001b[0m\u001b[1;33m.\u001b[0m\u001b[0mconcatenate\u001b[0m\u001b[1;33m(\u001b[0m\u001b[0mlk\u001b[0m\u001b[1;33m,\u001b[0m\u001b[0mrk\u001b[0m\u001b[1;33m)\u001b[0m\u001b[1;33m\u001b[0m\u001b[1;33m\u001b[0m\u001b[0m\n\u001b[0m",
      "\u001b[1;31mTypeError\u001b[0m: only integer scalar arrays can be converted to a scalar index"
     ]
    }
   ],
   "source": [
    "np.concatenate(lk,rk)"
   ]
  },
  {
   "cell_type": "code",
   "execution_count": null,
   "metadata": {},
   "outputs": [],
   "source": []
  },
  {
   "cell_type": "code",
   "execution_count": null,
   "metadata": {},
   "outputs": [],
   "source": []
  },
  {
   "cell_type": "code",
   "execution_count": null,
   "metadata": {},
   "outputs": [],
   "source": []
  },
  {
   "cell_type": "code",
   "execution_count": 49,
   "metadata": {},
   "outputs": [
    {
     "data": {
      "text/plain": [
       "'00011010'"
      ]
     },
     "execution_count": 49,
     "metadata": {},
     "output_type": "execute_result"
    }
   ],
   "source": [
    "# converting hexadecimal to decimal\n",
    "my_hexdata = \"1\"\n",
    "scale = 16 ## equals to hexadecimal\n",
    "num_of_bits = 8\n",
    "bin(int(my_hexdata, scale))[2:].zfill(num_of_bits)"
   ]
  },
  {
   "cell_type": "code",
   "execution_count": 7,
   "metadata": {},
   "outputs": [
    {
     "name": "stdout",
     "output_type": "stream",
     "text": [
      "Enter Hexadecimal Key: AB\n"
     ]
    },
    {
     "data": {
      "text/plain": [
       "'0000101000001011'"
      ]
     },
     "execution_count": 7,
     "metadata": {},
     "output_type": "execute_result"
    }
   ],
   "source": [
    "key = input(\"Enter Hexadecimal Key: \")\n",
    "k2 = []\n",
    "# converting hexadecimal key to individual binary digits of 8 bits\n",
    "for i in key:\n",
    "        k2.append(bin(int(i, 16))[2:].zfill(8))\n",
    "k2 = sep.join(k2)\n",
    "k2"
   ]
  },
  {
   "cell_type": "code",
   "execution_count": null,
   "metadata": {},
   "outputs": [],
   "source": []
  }
 ],
 "metadata": {
  "kernelspec": {
   "display_name": "Python 3",
   "language": "python",
   "name": "python3"
  },
  "language_info": {
   "codemirror_mode": {
    "name": "ipython",
    "version": 3
   },
   "file_extension": ".py",
   "mimetype": "text/x-python",
   "name": "python",
   "nbconvert_exporter": "python",
   "pygments_lexer": "ipython3",
   "version": "3.7.3"
  }
 },
 "nbformat": 4,
 "nbformat_minor": 2
}
