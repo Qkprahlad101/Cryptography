{
 "cells": [
  {
   "cell_type": "code",
   "execution_count": 17,
   "metadata": {},
   "outputs": [
    {
     "name": "stdout",
     "output_type": "stream",
     "text": [
      "Enter 2 prime numbers: 3 7 \n",
      "Enter a message: 11\n",
      "Encrypted Message is :  285311670598\n",
      "Decrypted Message is :  11\n"
     ]
    },
    {
     "name": "stderr",
     "output_type": "stream",
     "text": [
      "C:\\Users\\kkpra\\Anaconda3\\lib\\site-packages\\ipykernel_launcher.py:14: DeprecationWarning: fractions.gcd() is deprecated. Use math.gcd() instead.\n",
      "  \n"
     ]
    }
   ],
   "source": [
    "from fractions import gcd # to import gcd function\n",
    "\n",
    "#finding inverse of a value\n",
    "def modInverse(e, phi) : \n",
    "    a = e % phi; \n",
    "    for x in range(1, phi) : \n",
    "        if ((a * x) % phi == 1) : \n",
    "            return x \n",
    "    return 1\n",
    "\n",
    "def keygen(phi):\n",
    "    #finding value of e\n",
    "    for i in range(phi-1,1,-1):\n",
    "        p=gcd(i,phi)\n",
    "        if p==1:\n",
    "            e= i\n",
    "            break\n",
    "    d = modInverse(e,phi) # public key of Receiver\n",
    "   # print(\"Value of d and e: \",d,e)\n",
    "    return e,d\n",
    "\n",
    "def encrypt(M,e,n):\n",
    "    C = (M**e) ^ n\n",
    "    print(\"Encrypted Message is : \",C)\n",
    "    return C\n",
    "def Decrypt(C,d,n):\n",
    "    M1 = (C**d) ^ n\n",
    "    print(\"Decrypted Message is : \",M1)\n",
    "    return M1\n",
    "\n",
    "    \n",
    "p,q = list(map(int,input('Enter 2 prime numbers: ').split()))\n",
    "n = p*q\n",
    "phi = (p-1)*(q-1)\n",
    "M = int(input('Enter a message: '))\n",
    "e,d = keygen(phi)\n",
    "C= encrypt(M,e,n)\n",
    "F= decrypt(C,d,n)\n",
    "    \n",
    "\n",
    "\n",
    "\n",
    "\n"
   ]
  },
  {
   "cell_type": "code",
   "execution_count": 4,
   "metadata": {},
   "outputs": [
    {
     "name": "stderr",
     "output_type": "stream",
     "text": [
      "C:\\Users\\kkpra\\Anaconda3\\lib\\site-packages\\ipykernel_launcher.py:2: DeprecationWarning: fractions.gcd() is deprecated. Use math.gcd() instead.\n",
      "  \n"
     ]
    },
    {
     "data": {
      "text/plain": [
       "2"
      ]
     },
     "execution_count": 4,
     "metadata": {},
     "output_type": "execute_result"
    }
   ],
   "source": []
  },
  {
   "cell_type": "code",
   "execution_count": null,
   "metadata": {},
   "outputs": [],
   "source": []
  },
  {
   "cell_type": "code",
   "execution_count": null,
   "metadata": {},
   "outputs": [],
   "source": []
  },
  {
   "cell_type": "code",
   "execution_count": 15,
   "metadata": {},
   "outputs": [],
   "source": [
    "def decrypt(C,d,n):\n",
    "    print(\"Decrypted Message is : \",M)"
   ]
  },
  {
   "cell_type": "code",
   "execution_count": null,
   "metadata": {},
   "outputs": [],
   "source": []
  }
 ],
 "metadata": {
  "kernelspec": {
   "display_name": "Python 3",
   "language": "python",
   "name": "python3"
  },
  "language_info": {
   "codemirror_mode": {
    "name": "ipython",
    "version": 3
   },
   "file_extension": ".py",
   "mimetype": "text/x-python",
   "name": "python",
   "nbconvert_exporter": "python",
   "pygments_lexer": "ipython3",
   "version": "3.7.3"
  }
 },
 "nbformat": 4,
 "nbformat_minor": 2
}
